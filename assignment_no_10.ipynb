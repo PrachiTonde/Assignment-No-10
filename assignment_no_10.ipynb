{
  "cells": [
    {
      "cell_type": "code",
      "execution_count": null,
      "metadata": {
        "colab": {
          "background_save": true,
          "base_uri": "https://localhost:8080/",
          "height": 106
        },
        "id": "8HIjgpj-3IMt",
        "outputId": "3df86ef6-307d-48e3-8ba1-8a6a798fb0e8"
      },
      "outputs": [
        {
          "ename": "SyntaxError",
          "evalue": "invalid syntax (<ipython-input-28-46c7a31eef02>, line 67)",
          "output_type": "error",
          "traceback": [
            "\u001b[0;36m  File \u001b[0;32m\"<ipython-input-28-46c7a31eef02>\"\u001b[0;36m, line \u001b[0;32m67\u001b[0m\n\u001b[0;31m    Beta = (fy/fu) * (bs/Lc) * (Lol/) * Beta * 1.4 * 0.076 * (fy/tu) * (bs/Lc) * (Lol/t)\u001b[0m\n\u001b[0m                                    ^\u001b[0m\n\u001b[0;31mSyntaxError\u001b[0m\u001b[0;31m:\u001b[0m invalid syntax\n"
          ]
        }
      ],
      "source": [
        "# Design of tension member\n",
        "Tu = float(input(\"Enter the value of ultimate tensile strength: \"))\n",
        "fy = float(input(\"Enter the value of yield strength of steel: \"))\n",
        "fu = float(input(\"Enter the value of ultimate strength of steel: \"))\n",
        "fub = float(input(\"Enter the value of ultimate strength of bolt: \"))\n",
        "Gamma_mo= float(input(\"Enter the value of partial factor of safety Garmma mo: \"))\n",
        "Gamma_m1= float(input(\"Enter the value of partial factor of safety Garmma_m1: \"))\n",
        "Gamma_mb= float(input(\"Enter the value of partial factor of safety Gamma_mb: \"))\n",
        "print (\"Gross Area Required\")\n",
        "Agreq= 1.1* Tu* 1000/fy\n",
        "print (\"The value of gross area required is: \", 1.2*Agreq)\n",
        "# Selection of section\n",
        "# Selecting ISA 100x65x8\n",
        "Ag= float(input(\"Enter the value of gross area of steel is: \"))\n",
        "Lcl= float(input(\"Enter the length of connected leg: \"))\n",
        "Lol = float(input(\"Enter the length of outstand leg: \"))\n",
        "t= float(input(\"Entert the value of least thickness: \"))\n",
        "Ag = 1257\n",
        "# Design of connections\n",
        "d = float(input(\"Enter the value of diameter of bolt: \"))\n",
        "do=d + 2\n",
        "print (\"The diameter of bolt hole is: \", do)\n",
        "# As per IS code minimum pitch distance is\n",
        "pin = 2.5 * d\n",
        "print (\"The minimum pitch is: \", pin)\n",
        "# Edge distance as per IS 800 is\n",
        "e= 1.5\n",
        "print (\"Enter the value of edge distance: \", e)\n",
        "nn = float (input(\"Number of shear planes with threaded intercepting the shear plane: \"))\n",
        "ns = float (input(\"Number of shear plane without threads: \"))\n",
        "Anb = 0.7854 * d * d\n",
        "print (\"threaded area of bolt is: \", Anb)\n",
        "Asb = 0.7854*d*d\n",
        "print (\"plane shank area of bolt is: \", Asb)\n",
        "Vdsb= (fub/(1.732* Gamma_mb)) * (nn* Anb+ ns * Asb) * 10**-3\n",
        "print (\"The value of Vdsb: \", Vdsb)\n",
        "kbl = e/(3*do)\n",
        "print (\"Kbl: \", kb1)\n",
        "kb2 = (pmin/(3*do)) - 0.25\n",
        "print (\"Kb2: \", kb2)\n",
        "kb3= fub/fu\n",
        "print (\"Kb3: \", kb3)\n",
        "kb4 = 1\n",
        "print (\"Kb4: \", kb4)\n",
        "kb = min(kb1, kb2, kb3, kb4)\n",
        "print (\"Kb: \", kb)\n",
        "Vdpb = (2.5 * kb * d * t * fu * 10**-3)/(Gamma * mb)\n",
        "print (\"Vdpb: \", Vdpb)\n",
        "Vd= min(Vdsb, Vdpb)\n",
        "print (\"Vd: \", Vd)\n",
        "N =Tu/Vd\n",
        "print (\"Number of bolts requird: \", N)\n",
        "N= float(input(\"Enter the value of number of bolts: \"))\n",
        "# Check for strength\n",
        "# Criteria 1 Yeilding of Gross Section\n",
        "Tdg = (Ag*fy*11-3)/Gamma_mo\n",
        "print (\"The value of tensile strength due to yielding of gross section is: \", Tdg)\n",
        "# Criteria 2 Rupture\n",
        "Anc = (Lc1-(t/2)-do) *t\n",
        "print (\"Net Area of Connecting leg is: (Anc): \", Anc)\n",
        "Ago = (Lol-(t/2)) * t\n",
        "print (\"Gross Area of outstand leg is: (Anc): \", Ago)\n",
        "Lc = (N-1)*pmin\n",
        "print (\"Le: \", Lc)\n",
        "bs = 0.6 * Lcl + Lol * t\n",
        "print (\"bs: \", bs)\n",
        "Beta = (fy/fu) * (bs/Lc) * ( Lol/) * Beta * 1.4 * 0.076 * (fy/tu) * (bs/Lc) * (Lol/t)\n",
        "print (\"Beta: \", Beta)\n",
        "print (\"Check 1\")\n",
        "if Beta>1.4:\n",
        "print (\"Not Safe\")\n",
        "else:\n",
        "print (\"Safe\")\n",
        "print (\"Check 2\")\n",
        "if Beta<0.7:\n",
        "print (\"Not Safe\")\n",
        "else:\n",
        "print (\"'Safe\")\n",
        "#Tdn = (0.9 * fu * Anc)/Gamma_ml) + (Beta * Ago * fy/Gamma_mo)\n",
        "print (\"'Tdn: \", Tdn)\n",
        "# Criteria 3 Block Shear\n",
        "Avg = ((pmin* (N-1)+e) * t)\n",
        "print (\"Avg: \", Avg)\n",
        "Avn = ((pmi* (N-1) +e)-(N-1)*do+(8.5* do)) * t\n",
        "print (\"Avn: \", Aun)\n",
        "Atg 0.6* Lc1 *t\n",
        "print (\"Atg: \", Atg)\n",
        "Atn= Atg 0.5* do\n",
        "print (\"Atn: \", Atn)\n",
        "Tb1 = (((Avg*fy)/(1.732 *Gamma_mo)) +(0.9* fu*Atn)/Gamma_m1) * 10**-3\n",
        "print (\"Tb1: \", Tb1)\n",
        "Tb2 = (0.9*Avn*fu)/(1.732* Gamma_m1) +((Atg*fy)/Gamma_mo) * 10**-3\n",
        "print (\"Tb2: \", Tb2)\n",
        "Tb = min (Tb1, Tb2)\n",
        "print (\"Tb \", Tb)\n",
        "Td = min(Tdg, Tah, Tb)\n",
        "print (\"Td\", Td)\n",
        "if Td>Tu:\n",
        "print (\"SAFE\")\n",
        "else:\n",
        "print (\"Revise the Section\")"
      ]
    },
    {
      "cell_type": "code",
      "execution_count": null,
      "metadata": {
        "id": "rHvI1Ayg5yzD"
      },
      "outputs": [],
      "source": []
    }
  ],
  "metadata": {
    "colab": {
      "provenance": []
    },
    "kernelspec": {
      "display_name": "Python 3",
      "name": "python3"
    },
    "language_info": {
      "name": "python"
    }
  },
  "nbformat": 4,
  "nbformat_minor": 0
}